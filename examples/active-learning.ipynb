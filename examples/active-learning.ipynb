{
 "cells": [
  {
   "cell_type": "code",
   "execution_count": 36,
   "metadata": {},
   "outputs": [],
   "source": [
    "from talus import morse\n",
    "import scipy\n",
    "import sklearn\n",
    "import sklearn.datasets\n",
    "from sklearn.ensemble import RandomForestClassifier\n",
    "from sklearn.model_selection import train_test_split\n",
    "import numpy as np"
   ]
  },
  {
   "cell_type": "code",
   "execution_count": 12,
   "metadata": {},
   "outputs": [],
   "source": [
    "X, y = sklearn.datasets.load_iris(return_X_y=True)"
   ]
  },
  {
   "cell_type": "code",
   "execution_count": 14,
   "metadata": {},
   "outputs": [],
   "source": [
    "train_X, test_X, train_y, test_y = train_test_split(X, y, test_size=0.25, random_state=3)"
   ]
  },
  {
   "cell_type": "code",
   "execution_count": 15,
   "metadata": {},
   "outputs": [
    {
     "data": {
      "text/plain": [
       "(112, 4)"
      ]
     },
     "execution_count": 15,
     "metadata": {},
     "output_type": "execute_result"
    }
   ],
   "source": [
    "train_X.shape"
   ]
  },
  {
   "cell_type": "code",
   "execution_count": 24,
   "metadata": {},
   "outputs": [],
   "source": [
    "batch_size=4"
   ]
  },
  {
   "cell_type": "code",
   "execution_count": 76,
   "metadata": {},
   "outputs": [],
   "source": [
    "def build_morse_points(points, clf):\n",
    "    morse_points = []\n",
    "    predictions = clf.predict_proba(points)\n",
    "\n",
    "    for i, point in enumerate(points):\n",
    "        entropy = scipy.stats.entropy(predictions[i])\n",
    "        morse_points.append(morse.MorseNode(identifier=i, value=entropy, vector=list(point)))\n",
    "    return morse_points"
   ]
  },
  {
   "cell_type": "code",
   "execution_count": 77,
   "metadata": {},
   "outputs": [],
   "source": [
    "def maximum_persistence_selection(available_points, clf, batch_size):\n",
    "    morse_points = build_morse_points(available_points, clf)\n",
    "    # FIXME: fit(X, values) is way cleaner than doing this all myself\n",
    "    # FIXME: Rust panics on getting NaNs - should be an error but not a panic\n",
    "    morse_result = talus.morse.persistence_by_knn(morse_points, k=batch_size)\n",
    "    \n",
    "    persistences = [(morse_result.descending_complex.lifetimes[i], i)\n",
    "                    for i in range(len(available_points))]\n",
    "    \n",
    "    return [x[1] for x in sorted(persistences)[-batch_size:]]"
   ]
  },
  {
   "cell_type": "code",
   "execution_count": 88,
   "metadata": {
    "scrolled": true
   },
   "outputs": [
    {
     "name": "stdout",
     "output_type": "stream",
     "text": [
      "Persistence accuracy: 0.5263157894736842\n",
      "Persistence accuracy: 0.8157894736842105\n",
      "Persistence accuracy: 0.9473684210526315\n",
      "Persistence accuracy: 0.9473684210526315\n",
      "Persistence accuracy: 0.9473684210526315\n",
      "Persistence accuracy: 0.9736842105263158\n",
      "Persistence accuracy: 0.9473684210526315\n",
      "Persistence accuracy: 0.9473684210526315\n",
      "Persistence accuracy: 0.9473684210526315\n",
      "Persistence accuracy: 0.9473684210526315\n",
      "Persistence accuracy: 0.9473684210526315\n",
      "Persistence accuracy: 0.9736842105263158\n",
      "Persistence accuracy: 0.9473684210526315\n",
      "Persistence accuracy: 0.9473684210526315\n",
      "Persistence accuracy: 0.9736842105263158\n",
      "Persistence accuracy: 0.9473684210526315\n",
      "Persistence accuracy: 0.9473684210526315\n",
      "Persistence accuracy: 0.9473684210526315\n",
      "Persistence accuracy: 0.9473684210526315\n",
      "Persistence accuracy: 0.9736842105263158\n",
      "Persistence accuracy: 0.9473684210526315\n",
      "Persistence accuracy: 0.9736842105263158\n",
      "Persistence accuracy: 0.9210526315789473\n",
      "Persistence accuracy: 0.9736842105263158\n",
      "Persistence accuracy: 0.9473684210526315\n",
      "Persistence accuracy: 0.9473684210526315\n",
      "Persistence accuracy: 0.9473684210526315\n"
     ]
    }
   ],
   "source": [
    "selected_indices = list(np.random.choice(range(train_X.shape[0]), size=batch_size,\n",
    "                                         replace=False))\n",
    "remaining_indices = [i for i in range(len(train_X)) if i not in selected_indices]\n",
    "index_to_point = dict(enumerate(train_X))\n",
    "clf = RandomForestClassifier(n_estimators=50)\n",
    "while len(remaining_indices) > 0:\n",
    "    clf.fit(train_X[selected_indices], train_y[selected_indices])\n",
    "    predictions = clf.predict(test_X)\n",
    "    persistence_accuracy = sklearn.metrics.accuracy_score(test_y, predictions)\n",
    "    \n",
    "    print(f\"Persistence accuracy: {persistence_accuracy}\")\n",
    "\n",
    "    \n",
    "    next_points = maximum_persistence_selection([index_to_point[i] for i in remaining_indices],\n",
    "                                                clf, batch_size)\n",
    "    selected_indices.extend([remaining_indices[i] for i in next_points])\n",
    "    remaining_indices = [i for i in range(len(train_X)) if i not in selected_indices]\n",
    "    "
   ]
  },
  {
   "cell_type": "code",
   "execution_count": null,
   "metadata": {},
   "outputs": [],
   "source": []
  },
  {
   "cell_type": "code",
   "execution_count": null,
   "metadata": {},
   "outputs": [],
   "source": []
  }
 ],
 "metadata": {
  "kernelspec": {
   "display_name": "Python 3",
   "language": "python",
   "name": "python3"
  },
  "language_info": {
   "codemirror_mode": {
    "name": "ipython",
    "version": 3
   },
   "file_extension": ".py",
   "mimetype": "text/x-python",
   "name": "python",
   "nbconvert_exporter": "python",
   "pygments_lexer": "ipython3",
   "version": "3.7.3"
  }
 },
 "nbformat": 4,
 "nbformat_minor": 2
}
